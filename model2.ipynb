{
 "cells": [
  {
   "cell_type": "code",
   "execution_count": 172,
   "metadata": {
    "collapsed": false
   },
   "outputs": [],
   "source": [
    "import csv\n",
    "import numpy as np"
   ]
  },
  {
   "cell_type": "code",
   "execution_count": 36,
   "metadata": {
    "collapsed": false
   },
   "outputs": [],
   "source": [
    "with open('JRcleaningcontinued.csv', 'rU') as csvfile:\n",
    "    reader = csv.DictReader(csvfile)\n",
    "    crimeDictionary = {}\n",
    "    for row in reader:\n",
    "        key = (int(row['EPOCH_TRUNC']), (float(row['LATITUDE'][:4]), float(row['LONGITUDE'][:5])))\n",
    "        if key in crimeDictionary:\n",
    "            crimeDictionary[key].append(row)\n",
    "        else:\n",
    "            crimeDictionary[key] = [row]\n",
    "        "
   ]
  },
  {
   "cell_type": "code",
   "execution_count": 37,
   "metadata": {
    "collapsed": false
   },
   "outputs": [
    {
     "data": {
      "text/plain": [
       "4"
      ]
     },
     "execution_count": 37,
     "metadata": {},
     "output_type": "execute_result"
    }
   ],
   "source": [
    "len(crimeDictionary[crimeDictionary.keys()[4]])"
   ]
  },
  {
   "cell_type": "code",
   "execution_count": 38,
   "metadata": {
    "collapsed": false
   },
   "outputs": [],
   "source": [
    "import pickle\n",
    "weatherFyle = open('JRcompleteweatherdata.pkl')\n",
    "weatherDF = pickle.load(weatherFyle)"
   ]
  },
  {
   "cell_type": "code",
   "execution_count": 39,
   "metadata": {
    "collapsed": false
   },
   "outputs": [],
   "source": [
    "#minTime = 1341115200, July 2012\n",
    "#maxTime = 1443495600, Sept 29, 2015\n",
    "#LATITUDE\n",
    "#LONGITUDE\n",
    "#time\n",
    "#temperature\n",
    "#pressure\n",
    "#humidity\n",
    "#visibility\n",
    "#precipIntensity\n",
    "#precipProbability\n",
    "weatherDict = {}\n",
    "\n",
    "for x in weatherDF.iterrows():\n",
    "    clock = float(str(x[0]).split(' ')[1][0:2])\n",
    "    key = (x[1]['time'], (x[1]['LATITUDE'], x[1]['LONGITUDE']))\n",
    "    weatherDict[key] = {'clock': clock, 'temp': x[1]['temperature'], 'pressure': x[1]['pressure'], 'humidity': x[1]['humidity'], 'humidity': x[1]['visibility'], 'precipIntensity': x[1]['precipIntensity'], 'precipProbability': x[1]['precipProbability']}"
   ]
  },
  {
   "cell_type": "code",
   "execution_count": 40,
   "metadata": {
    "collapsed": false
   },
   "outputs": [
    {
     "data": {
      "text/plain": [
       "199080"
      ]
     },
     "execution_count": 40,
     "metadata": {},
     "output_type": "execute_result"
    }
   ],
   "source": [
    "len(weatherDict)"
   ]
  },
  {
   "cell_type": "code",
   "execution_count": 51,
   "metadata": {
    "collapsed": false
   },
   "outputs": [],
   "source": [
    "X = []\n",
    "Y = []\n",
    "for k in weatherDict.keys():\n",
    "    if k in crimeDictionary:\n",
    "        Y.append(1)\n",
    "    else:\n",
    "        Y.append(0)\n",
    "#     X.append(weatherDict[k]['clock'])\n",
    "    X.append([weatherDict[k]['clock'], float(weatherDict[k]['temp']), float(weatherDict[k]['pressure'])  ])"
   ]
  },
  {
   "cell_type": "code",
   "execution_count": 55,
   "metadata": {
    "collapsed": false
   },
   "outputs": [
    {
     "data": {
      "text/plain": [
       "SVC(C=1.0, cache_size=200, class_weight=None, coef0=0.0, degree=3, gamma=0.0,\n",
       "  kernel='rbf', max_iter=-1, probability=False, random_state=None,\n",
       "  shrinking=True, tol=0.001, verbose=False)"
      ]
     },
     "execution_count": 55,
     "metadata": {},
     "output_type": "execute_result"
    }
   ],
   "source": [
    "X_new = X[0:20000]\n",
    "Y_new = Y[0:20000]\n",
    "\n",
    "from sklearn import svm\n",
    "clf = svm.SVC()\n",
    "clf.fit(X_new, Y_new)"
   ]
  },
  {
   "cell_type": "code",
   "execution_count": 64,
   "metadata": {
    "collapsed": false
   },
   "outputs": [
    {
     "data": {
      "text/plain": [
       "0"
      ]
     },
     "execution_count": 64,
     "metadata": {},
     "output_type": "execute_result"
    }
   ],
   "source": [
    "# y_new_prime = clf.predict(X_new[20000:21000])\n",
    "clf.predict(X[20000:100000])"
   ]
  },
  {
   "cell_type": "code",
   "execution_count": 125,
   "metadata": {
    "collapsed": false
   },
   "outputs": [
    {
     "data": {
      "text/plain": [
       "LogisticRegression(C=1.0, class_weight=None, dual=False, fit_intercept=True,\n",
       "          intercept_scaling=1, max_iter=100, multi_class='ovr',\n",
       "          penalty='l2', random_state=None, solver='liblinear', tol=0.0001,\n",
       "          verbose=0)"
      ]
     },
     "execution_count": 125,
     "metadata": {},
     "output_type": "execute_result"
    }
   ],
   "source": [
    "from sklearn.linear_model import LogisticRegression\n",
    "X_train = X[0:150000]\n",
    "Y_train = Y[0:150000]\n",
    "\n",
    "logClf = LogisticRegression()\n",
    "logClf.fit(X_train, Y_train)"
   ]
  },
  {
   "cell_type": "code",
   "execution_count": 126,
   "metadata": {
    "collapsed": false
   },
   "outputs": [],
   "source": [
    "P = (logClf.predict(X[150000:]))\n",
    "#logClf.predict_proba(X[20000:100000])"
   ]
  },
  {
   "cell_type": "code",
   "execution_count": 160,
   "metadata": {
    "collapsed": false
   },
   "outputs": [],
   "source": [
    "def getAccuracy(Preds, Y, starter=0):\n",
    "    falsePositive = 0\n",
    "    falseNegative = 0\n",
    "    truePositive = 0\n",
    "    trueNegative = 0\n",
    "    for i in xrange(len(Preds)):\n",
    "        j = starter + i\n",
    "        if Preds[i] == Y[j]:\n",
    "            if Preds[i] == 1:\n",
    "                truePositive += 1\n",
    "            elif Preds[i] == 0:\n",
    "                trueNegative += 1\n",
    "            else:\n",
    "                print Preds[i]\n",
    "        else:\n",
    "            if Preds[i] is 1:\n",
    "                falsePositive += 1\n",
    "            else:\n",
    "                falseNegative += 1\n",
    "    print \"The True Positive Rate is : \", truePositive\n",
    "    print \"The True Negative Rate is : \", trueNegative\n",
    "    print \"The False Positive Rate is : \", falsePositive\n",
    "    print \"The False Negative Rate is : \", falseNegative\n",
    "    return truePositive, trueNegative, falsePositive, falseNegative"
   ]
  },
  {
   "cell_type": "code",
   "execution_count": 161,
   "metadata": {
    "collapsed": false
   },
   "outputs": [
    {
     "name": "stdout",
     "output_type": "stream",
     "text": [
      "The True Positive Rate is :  458\n",
      "The True Negative Rate is :  38624\n",
      "The False Positive Rate is :  0\n",
      "The False Negative Rate is :  9998\n"
     ]
    }
   ],
   "source": [
    "tp, tn, fp, fn = getAccuracy(P, Y, starter=150000)"
   ]
  },
  {
   "cell_type": "code",
   "execution_count": 162,
   "metadata": {
    "collapsed": false
   },
   "outputs": [
    {
     "data": {
      "text/plain": [
       "0.7962917685411572"
      ]
     },
     "execution_count": 162,
     "metadata": {},
     "output_type": "execute_result"
    }
   ],
   "source": [
    "# 50% Threshold Accuracy\n",
    "float((tn + tp))/(tp + tn + fp + fn)"
   ]
  },
  {
   "cell_type": "code",
   "execution_count": 163,
   "metadata": {
    "collapsed": false
   },
   "outputs": [],
   "source": [
    "ProbPreds = logClf.predict_proba(X[150000:])"
   ]
  },
  {
   "cell_type": "code",
   "execution_count": 176,
   "metadata": {
    "collapsed": false
   },
   "outputs": [],
   "source": [
    "def thresholdPredictions(threshold, probs):\n",
    "    return map(lambda x: 1 if x[1] > threshold else 0, probs)"
   ]
  },
  {
   "cell_type": "code",
   "execution_count": 169,
   "metadata": {
    "collapsed": false
   },
   "outputs": [
    {
     "name": "stdout",
     "output_type": "stream",
     "text": [
      "The True Positive Rate is :  458\n",
      "The True Negative Rate is :  38624\n",
      "The False Positive Rate is :  1585\n",
      "The False Negative Rate is :  8413\n"
     ]
    }
   ],
   "source": [
    "# fortyPercentThresholdPreds\n",
    "tp, tn, fp, fn = getAccuracy(fortyPercentThresholdPreds, Y, 150000)"
   ]
  },
  {
   "cell_type": "code",
   "execution_count": 170,
   "metadata": {
    "collapsed": false
   },
   "outputs": [
    {
     "data": {
      "text/plain": [
       "0.7962917685411572"
      ]
     },
     "execution_count": 170,
     "metadata": {},
     "output_type": "execute_result"
    }
   ],
   "source": [
    "float((tn + tp))/(tp + tn + fp + fn)"
   ]
  },
  {
   "cell_type": "code",
   "execution_count": 171,
   "metadata": {
    "collapsed": false
   },
   "outputs": [
    {
     "data": {
      "text/plain": [
       "49080"
      ]
     },
     "execution_count": 171,
     "metadata": {},
     "output_type": "execute_result"
    }
   ],
   "source": [
    "len(fortyPercentThresholdPreds)"
   ]
  },
  {
   "cell_type": "code",
   "execution_count": 179,
   "metadata": {
    "collapsed": false
   },
   "outputs": [
    {
     "name": "stdout",
     "output_type": "stream",
     "text": [
      "The True Positive Rate is :  8871\n",
      "The True Negative Rate is :  22402\n",
      "The False Positive Rate is :  17807\n",
      "The False Negative Rate is :  0\n",
      "The True Positive Rate is :  4142\n",
      "The True Negative Rate is :  31947\n",
      "The False Positive Rate is :  8262\n",
      "The False Negative Rate is :  4729\n",
      "The True Positive Rate is :  458\n",
      "The True Negative Rate is :  38624\n",
      "The False Positive Rate is :  1585\n",
      "The False Negative Rate is :  8413\n",
      "The True Positive Rate is :  0\n",
      "The True Negative Rate is :  40209\n",
      "The False Positive Rate is :  0\n",
      "The False Negative Rate is :  8871\n",
      "The True Positive Rate is :  0\n",
      "The True Negative Rate is :  40209\n",
      "The False Positive Rate is :  0\n",
      "The False Negative Rate is :  8871\n",
      "0.819254278729\n",
      "0.7\n",
      "########################\n",
      "The True Positive Rate is :  0\n",
      "The True Negative Rate is :  40209\n",
      "The False Positive Rate is :  0\n",
      "The False Negative Rate is :  8871\n",
      "(0, 40209, 0, 8871)\n"
     ]
    }
   ],
   "source": [
    "best_accuracy = 0\n",
    "best_t = 0\n",
    "for t in np.arange(0.1, 0.98, 0.2):\n",
    "    t_p = thresholdPredictions(t, ProbPreds)\n",
    "    tp, tn, fp, fn = getAccuracy(t_p, Y, 150000)\n",
    "    accuracy = float((tn + tp))/(tp + tn + fp + fn)\n",
    "    if accuracy > best_accuracy:\n",
    "        best_accuracy = accuracy\n",
    "        best_t = t\n",
    "print best_accuracy\n",
    "print best_t\n",
    "print \"########################\"\n",
    "print getAccuracy(thresholdPredictions(best_t, ProbPreds), Y, 150000)"
   ]
  },
  {
   "cell_type": "code",
   "execution_count": 180,
   "metadata": {
    "collapsed": false
   },
   "outputs": [
    {
     "name": "stdout",
     "output_type": "stream",
     "text": [
      "[12.0]\n"
     ]
    }
   ],
   "source": []
  }
 ],
 "metadata": {
  "kernelspec": {
   "display_name": "Python 2",
   "language": "python",
   "name": "python2"
  }
 },
 "nbformat": 4,
 "nbformat_minor": 0
}
